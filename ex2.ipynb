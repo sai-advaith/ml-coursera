{
  "nbformat": 4,
  "nbformat_minor": 0,
  "metadata": {
    "colab": {
      "name": "ex2.ipynb",
      "provenance": [],
      "collapsed_sections": []
    },
    "kernelspec": {
      "name": "python3",
      "display_name": "Python 3"
    }
  },
  "cells": [
    {
      "cell_type": "code",
      "execution_count": null,
      "metadata": {},
      "outputs": [
        {
          "ename": "Error",
          "evalue": "Jupyter cannot be started. Error attempting to locate jupyter: ",
          "output_type": "error",
          "traceback": [
            "Error: Jupyter cannot be started. Error attempting to locate jupyter:",
            "at A.startServer (/Users/advaithsai/.vscode/extensions/ms-python.python-2020.2.64397/out/client/extension.js:1:786213)"
          ]
        }
      ],
      "source": [
        "from google.colab import drive\n",
        "drive.mount('/content/drive')"
      ]
    },
    {
      "cell_type": "code",
      "execution_count": null,
      "metadata": {},
      "outputs": [
        {
          "ename": "Error",
          "evalue": "Jupyter cannot be started. Error attempting to locate jupyter: ",
          "output_type": "error",
          "traceback": [
            "Error: Jupyter cannot be started. Error attempting to locate jupyter:",
            "at A.startServer (/Users/advaithsai/.vscode/extensions/ms-python.python-2020.2.64397/out/client/extension.js:1:786213)"
          ]
        }
      ],
      "source": [
        "import numpy as np\n",
        "import matplotlib.pyplot as plt\n",
        "from scipy import optimize"
      ]
    },
    {
      "cell_type": "code",
      "execution_count": null,
      "metadata": {},
      "outputs": [
        {
          "ename": "Error",
          "evalue": "Jupyter cannot be started. Error attempting to locate jupyter: ",
          "output_type": "error",
          "traceback": [
            "Error: Jupyter cannot be started. Error attempting to locate jupyter:",
            "at A.startServer (/Users/advaithsai/.vscode/extensions/ms-python.python-2020.2.64397/out/client/extension.js:1:786213)"
          ]
        }
      ],
      "source": [
        "training_data = np.loadtxt('/content/drive/My Drive/ex2data1.txt',delimiter=',')\n",
        "target = training_data[:,2]\n",
        "feature = training_data[:, 0:2]"
      ]
    },
    {
      "cell_type": "code",
      "execution_count": null,
      "metadata": {},
      "outputs": [
        {
          "ename": "Error",
          "evalue": "Jupyter cannot be started. Error attempting to locate jupyter: ",
          "output_type": "error",
          "traceback": [
            "Error: Jupyter cannot be started. Error attempting to locate jupyter:",
            "at A.startServer (/Users/advaithsai/.vscode/extensions/ms-python.python-2020.2.64397/out/client/extension.js:1:786213)"
          ]
        }
      ],
      "source": [
        "def plotData(X,y):\n",
        "  fig = plt.figure()\n",
        "  # Find Indices of Positive and Negative Examples\n",
        "  pos = y == 1\n",
        "  neg = y == 0\n",
        "  # Plot Examples\n",
        "  plt.scatter(X[pos, 0], X[pos, 1], color='r')\n",
        "  plt.scatter(X[neg, 0], X[neg, 1], color='b')"
      ]
    },
    {
      "cell_type": "code",
      "execution_count": null,
      "metadata": {},
      "outputs": [
        {
          "ename": "Error",
          "evalue": "Jupyter cannot be started. Error attempting to locate jupyter: ",
          "output_type": "error",
          "traceback": [
            "Error: Jupyter cannot be started. Error attempting to locate jupyter:",
            "at A.startServer (/Users/advaithsai/.vscode/extensions/ms-python.python-2020.2.64397/out/client/extension.js:1:786213)"
          ]
        }
      ],
      "source": [
        "plotData(feature,target)\n",
        "plt.xlabel('Exam 1 score')\n",
        "plt.ylabel('Exam 2 score')"
      ]
    },
    {
      "cell_type": "code",
      "execution_count": null,
      "metadata": {},
      "outputs": [
        {
          "ename": "Error",
          "evalue": "Jupyter cannot be started. Error attempting to locate jupyter: ",
          "output_type": "error",
          "traceback": [
            "Error: Jupyter cannot be started. Error attempting to locate jupyter:",
            "at A.startServer (/Users/advaithsai/.vscode/extensions/ms-python.python-2020.2.64397/out/client/extension.js:1:786213)"
          ]
        }
      ],
      "source": [
        "import math\n",
        "def sigmoid(z):\n",
        "  z = np.array(z)\n",
        "  g = np.zeros(z.shape)\n",
        "  g = 1 / (1 + np.exp(-z))\n",
        "  return g "
      ]
    },
    {
      "cell_type": "code",
      "execution_count": null,
      "metadata": {},
      "outputs": [
        {
          "ename": "Error",
          "evalue": "Jupyter cannot be started. Error attempting to locate jupyter: ",
          "output_type": "error",
          "traceback": [
            "Error: Jupyter cannot be started. Error attempting to locate jupyter:",
            "at A.startServer (/Users/advaithsai/.vscode/extensions/ms-python.python-2020.2.64397/out/client/extension.js:1:786213)"
          ]
        }
      ],
      "source": [
        "z = 0\n",
        "g = sigmoid(z)\n",
        "print('g(', z, ') = ', g)"
      ]
    },
    {
      "cell_type": "code",
      "execution_count": null,
      "metadata": {},
      "outputs": [
        {
          "ename": "Error",
          "evalue": "Jupyter cannot be started. Error attempting to locate jupyter: ",
          "output_type": "error",
          "traceback": [
            "Error: Jupyter cannot be started. Error attempting to locate jupyter:",
            "at A.startServer (/Users/advaithsai/.vscode/extensions/ms-python.python-2020.2.64397/out/client/extension.js:1:786213)"
          ]
        }
      ],
      "source": [
        "m,n = feature.shape\n",
        "feature = np.concatenate([np.ones((m, 1)), feature], axis=1)"
      ]
    },
    {
      "cell_type": "code",
      "execution_count": null,
      "metadata": {},
      "outputs": [
        {
          "ename": "Error",
          "evalue": "Jupyter cannot be started. Error attempting to locate jupyter: ",
          "output_type": "error",
          "traceback": [
            "Error: Jupyter cannot be started. Error attempting to locate jupyter:",
            "at A.startServer (/Users/advaithsai/.vscode/extensions/ms-python.python-2020.2.64397/out/client/extension.js:1:786213)"
          ]
        }
      ],
      "source": [
        "def costFunction(theta,X,y):\n",
        "  m = y.size\n",
        "  J = 0\n",
        "  grad = np.zeros(theta.shape)\n",
        "  def computeCost(x,y):\n",
        "    sum_diff = 0\n",
        "    for i in range(m):\n",
        "      h_x = sigmoid(np.dot(theta,x[i]))\n",
        "      sum_diff += -y[i]*math.log(h_x) - (1-y[i])*math.log(1-h_x)\n",
        "    return sum_diff/m\n",
        "\n",
        "  def computeGrad(x,y,j):\n",
        "    sum_Gradient = 0\n",
        "    for i in range(m):\n",
        "      h_x = sigmoid(np.dot(theta,x[i]))\n",
        "      sum_Gradient += (h_x-y[i])*x[i][j]\n",
        "    return sum_Gradient/m\n",
        "  \n",
        "  for i in range(grad.shape[0]):\n",
        "    grad[i] = computeGrad(X,y,i)\n",
        "\n",
        "  J = computeCost(X,y)\n",
        "  \n",
        "  return J,grad"
      ]
    },
    {
      "cell_type": "code",
      "execution_count": null,
      "metadata": {},
      "outputs": [
        {
          "ename": "Error",
          "evalue": "Jupyter cannot be started. Error attempting to locate jupyter: ",
          "output_type": "error",
          "traceback": [
            "Error: Jupyter cannot be started. Error attempting to locate jupyter:",
            "at A.startServer (/Users/advaithsai/.vscode/extensions/ms-python.python-2020.2.64397/out/client/extension.js:1:786213)"
          ]
        }
      ],
      "source": [
        "initial_theta = np.zeros(n+1)\n",
        "cost, grad = costFunction(initial_theta, feature, target)\n",
        "\n",
        "print('Cost at initial theta (zeros): {:.3f}'.format(cost))\n",
        "print('Expected cost (approx): 0.693\\n')\n",
        "\n",
        "print('Gradient at initial theta (zeros):')\n",
        "print('\\t[{:.4f}, {:.4f}, {:.4f}]'.format(*grad))\n",
        "print('Expected gradients (approx):\\n\\t[-0.1000, -12.0092, -11.2628]\\n')\n",
        "\n",
        "test_theta = np.array([-24, 0.2, 0.2])\n",
        "cost, grad = costFunction(test_theta, feature, target)\n",
        "\n",
        "print('Cost at test theta: {:.3f}'.format(cost))\n",
        "print('Expected cost (approx): 0.218\\n')\n",
        "\n",
        "print('Gradient at test theta:')\n",
        "print('\\t[{:.3f}, {:.3f}, {:.3f}]'.format(*grad))\n",
        "print('Expected gradients (approx):\\n\\t[0.043, 2.566, 2.647]')"
      ]
    },
    {
      "cell_type": "code",
      "execution_count": null,
      "metadata": {},
      "outputs": [
        {
          "ename": "Error",
          "evalue": "Jupyter cannot be started. Error attempting to locate jupyter: ",
          "output_type": "error",
          "traceback": [
            "Error: Jupyter cannot be started. Error attempting to locate jupyter:",
            "at A.startServer (/Users/advaithsai/.vscode/extensions/ms-python.python-2020.2.64397/out/client/extension.js:1:786213)"
          ]
        }
      ],
      "source": [
        "options = {'maxiter':400}\n",
        "res = optimize.minimize(costFunction,\n",
        "                        initial_theta,\n",
        "                        (feature, target),\n",
        "                        jac=True,\n",
        "                        method='TNC',\n",
        "                        options=options)\n",
        "cost = res.fun\n",
        "theta = res.x\n",
        "print('Cost at theta found by optimize.minimize: {:.3f}'.format(cost))\n",
        "print('Expected cost (approx): 0.203\\n');\n",
        "\n",
        "print('theta:')\n",
        "print('\\t[{:.3f}, {:.3f}, {:.3f}]'.format(*theta))\n",
        "print('Expected theta (approx):\\n\\t[-25.161, 0.206, 0.201]')"
      ]
    },
    {
      "cell_type": "code",
      "execution_count": null,
      "metadata": {},
      "outputs": [
        {
          "ename": "Error",
          "evalue": "Jupyter cannot be started. Error attempting to locate jupyter: ",
          "output_type": "error",
          "traceback": [
            "Error: Jupyter cannot be started. Error attempting to locate jupyter:",
            "at A.startServer (/Users/advaithsai/.vscode/extensions/ms-python.python-2020.2.64397/out/client/extension.js:1:786213)"
          ]
        }
      ],
      "source": [
        "def plotDecisionBoundary(plotData, theta, X, y):\n",
        "  theta = np.array(theta)\n",
        "\n",
        "  # Plot Data (remember first column in X is the intercept)\n",
        "  plotData(X[:, 1:3], y)\n",
        "\n",
        "  if X.shape[1] <= 3:\n",
        "      # Only need 2 points to define a line, so choose two endpoints\n",
        "      plot_x = np.array([np.min(X[:, 1]) - 2, np.max(X[:, 1]) + 2])\n",
        "\n",
        "      # Calculate the decision boundary line\n",
        "      plot_y = (-1. / theta[2]) * (theta[1] * plot_x + theta[0])\n",
        "\n",
        "      # Plot, and adjust axes for better viewing\n",
        "      plt.plot(plot_x, plot_y)\n",
        "\n",
        "      # Legend, specific for the exercise\n",
        "      plt.legend(['Admitted', 'Not admitted', 'Decision Boundary'])\n",
        "      plt.xlim([30, 100])\n",
        "      plt.ylim([30, 100])\n",
        "  else:\n",
        "      # Here is the grid range\n",
        "      u = np.linspace(-1, 1.5, 50)\n",
        "      v = np.linspace(-1, 1.5, 50)\n",
        "\n",
        "      z = np.zeros((u.size, v.size))\n",
        "      # Evaluate z = theta*x over the grid\n",
        "      for i, ui in enumerate(u):\n",
        "          for j, vj in enumerate(v):\n",
        "              z[i, j] = np.dot(mapFeature(ui, vj), theta)\n",
        "\n",
        "      z = z.T  # important to transpose z before calling contour\n",
        "      # print(z)\n",
        "\n",
        "      # Plot z = 0\n",
        "      plt.contour(u, v, z, levels=[0], linewidths=2, colors='g')\n",
        "      plt.contourf(u, v, z, levels=[np.min(z), 0, np.max(z)], cmap='Greens', alpha=0.4)"
      ]
    },
    {
      "cell_type": "code",
      "execution_count": null,
      "metadata": {},
      "outputs": [
        {
          "ename": "Error",
          "evalue": "Jupyter cannot be started. Error attempting to locate jupyter: ",
          "output_type": "error",
          "traceback": [
            "Error: Jupyter cannot be started. Error attempting to locate jupyter:",
            "at A.startServer (/Users/advaithsai/.vscode/extensions/ms-python.python-2020.2.64397/out/client/extension.js:1:786213)"
          ]
        }
      ],
      "source": [
        "plotDecisionBoundary(plotData, theta, feature, target)"
      ]
    },
    {
      "cell_type": "code",
      "execution_count": null,
      "metadata": {},
      "outputs": [
        {
          "ename": "Error",
          "evalue": "Jupyter cannot be started. Error attempting to locate jupyter: ",
          "output_type": "error",
          "traceback": [
            "Error: Jupyter cannot be started. Error attempting to locate jupyter:",
            "at A.startServer (/Users/advaithsai/.vscode/extensions/ms-python.python-2020.2.64397/out/client/extension.js:1:786213)"
          ]
        }
      ],
      "source": [
        "def predict(theta, X):\n",
        "  m = X.shape[0]\n",
        "  \n",
        "  p = np.zeros(m)\n",
        "  for i in range(m):\n",
        "    if (sigmoid(np.dot(theta,X[i]))>=0.5):\n",
        "      p[i] = 1\n",
        "    else:\n",
        "      p[i] = 0\n",
        "  return p"
      ]
    },
    {
      "cell_type": "code",
      "execution_count": null,
      "metadata": {},
      "outputs": [
        {
          "ename": "Error",
          "evalue": "Jupyter cannot be started. Error attempting to locate jupyter: ",
          "output_type": "error",
          "traceback": [
            "Error: Jupyter cannot be started. Error attempting to locate jupyter:",
            "at A.startServer (/Users/advaithsai/.vscode/extensions/ms-python.python-2020.2.64397/out/client/extension.js:1:786213)"
          ]
        }
      ],
      "source": [
        "prob = sigmoid(np.dot([1, 45, 85], theta))\n",
        "print('For a student with scores 45 and 85,'\n",
        "      'we predict an admission probability of {:.3f}'.format(prob))\n",
        "print('Expected value: 0.775 +/- 0.002\\n')\n",
        "\n",
        "p = predict(theta, feature)\n",
        "print('Train Accuracy: {:.2f} %'.format(np.mean(p == target) * 100))\n",
        "print('Expected accuracy (approx): 89.00 %')"
      ]
    },
    {
      "cell_type": "code",
      "execution_count": null,
      "metadata": {},
      "outputs": [
        {
          "ename": "Error",
          "evalue": "Jupyter cannot be started. Error attempting to locate jupyter: ",
          "output_type": "error",
          "traceback": [
            "Error: Jupyter cannot be started. Error attempting to locate jupyter:",
            "at A.startServer (/Users/advaithsai/.vscode/extensions/ms-python.python-2020.2.64397/out/client/extension.js:1:786213)"
          ]
        }
      ],
      "source": [
        "training = np.loadtxt('/content/drive/My Drive/ex2data2.txt',delimiter=',')\n",
        "X = training[:, :2]\n",
        "y = training[:,2]\n",
        "plotData(X,y)\n",
        "plt.xlabel('Microchip Test 1')\n",
        "plt.ylabel('Microchip Test 2')\n",
        "plt.legend(['y = 1', 'y = 0'], loc='upper right')"
      ]
    },
    {
      "cell_type": "code",
      "execution_count": null,
      "metadata": {},
      "outputs": [
        {
          "ename": "Error",
          "evalue": "Jupyter cannot be started. Error attempting to locate jupyter: ",
          "output_type": "error",
          "traceback": [
            "Error: Jupyter cannot be started. Error attempting to locate jupyter:",
            "at A.startServer (/Users/advaithsai/.vscode/extensions/ms-python.python-2020.2.64397/out/client/extension.js:1:786213)"
          ]
        }
      ],
      "source": [
        "def mapFeature(X1, X2, degree=6):\n",
        "    \"\"\"\n",
        "    Maps the two input features to quadratic features used in the regularization exercise.\n",
        "    Returns a new feature array with more features, comprising of\n",
        "    X1, X2, X1.^2, X2.^2, X1*X2, X1*X2.^2, etc..\n",
        "    Parameters\n",
        "    ----------\n",
        "    X1 : array_like\n",
        "        A vector of shape (m, 1), containing one feature for all examples.\n",
        "    X2 : array_like\n",
        "        A vector of shape (m, 1), containing a second feature for all examples.\n",
        "        Inputs X1, X2 must be the same size.\n",
        "    degree: int, optional\n",
        "        The polynomial degree.\n",
        "    Returns\n",
        "    -------\n",
        "    : array_like\n",
        "        A matrix of of m rows, and columns depend on the degree of polynomial.\n",
        "    \"\"\"\n",
        "    if X1.ndim > 0:\n",
        "        out = [np.ones(X1.shape[0])]\n",
        "    else:\n",
        "        out = [np.ones(1)]\n",
        "\n",
        "    for i in range(1, degree + 1):\n",
        "        for j in range(i + 1):\n",
        "            out.append((X1 ** (i - j)) * (X2 ** j))\n",
        "\n",
        "    if X1.ndim > 0:\n",
        "        return np.stack(out, axis=1)\n",
        "    else:\n",
        "        return np.array(out)"
      ]
    },
    {
      "cell_type": "code",
      "execution_count": null,
      "metadata": {},
      "outputs": [
        {
          "ename": "Error",
          "evalue": "Jupyter cannot be started. Error attempting to locate jupyter: ",
          "output_type": "error",
          "traceback": [
            "Error: Jupyter cannot be started. Error attempting to locate jupyter:",
            "at A.startServer (/Users/advaithsai/.vscode/extensions/ms-python.python-2020.2.64397/out/client/extension.js:1:786213)"
          ]
        }
      ],
      "source": [
        "X = mapFeature(X[:, 0], X[:, 1])"
      ]
    },
    {
      "cell_type": "code",
      "execution_count": null,
      "metadata": {},
      "outputs": [
        {
          "ename": "Error",
          "evalue": "Jupyter cannot be started. Error attempting to locate jupyter: ",
          "output_type": "error",
          "traceback": [
            "Error: Jupyter cannot be started. Error attempting to locate jupyter:",
            "at A.startServer (/Users/advaithsai/.vscode/extensions/ms-python.python-2020.2.64397/out/client/extension.js:1:786213)"
          ]
        }
      ],
      "source": [
        "def costFunctionReg(theta,X,y,lamba_):\n",
        "  m = y.size\n",
        "  J = 0\n",
        "  grad = np.zeros(theta.shape)\n",
        "\n",
        "  def theta_sums(theta):\n",
        "    sums = 0\n",
        "    for i in range(1,theta.shape[0]):\n",
        "      sums += theta[i]*theta[i]\n",
        "    return (sums*lambda_)/(2*m)\n",
        "\n",
        "  def computeCost(x,y):\n",
        "    sum_diff = 0\n",
        "    for i in range(m):\n",
        "      h_x = sigmoid(np.dot(theta,x[i]))\n",
        "      sum_diff += -y[i]*math.log(h_x) - (1-y[i])*math.log(1-h_x)\n",
        "    \n",
        "    return (sum_diff/m)\n",
        "  \n",
        "  def computeGrad(x,y,j):\n",
        "    sum_Gradient = 0\n",
        "    for i in range(m):\n",
        "      h_x = sigmoid(np.dot(theta,x[i]))\n",
        "      sum_Gradient += (h_x-y[i])*x[i][j]\n",
        "    return sum_Gradient/m\n",
        "  \n",
        "  for i in range(grad.shape[0]):\n",
        "    if i >= 1:\n",
        "      grad[i] = computeGrad(X,y,i) + (theta[i]*lambda_)/m\n",
        "    else:\n",
        "      grad[i] = computeGrad(X,y,i)\n",
        "\n",
        "  J = computeCost(X,y) + theta_sums(theta)\n",
        "  \n",
        "  return J,grad"
      ]
    },
    {
      "cell_type": "code",
      "execution_count": null,
      "metadata": {},
      "outputs": [
        {
          "ename": "Error",
          "evalue": "Jupyter cannot be started. Error attempting to locate jupyter: ",
          "output_type": "error",
          "traceback": [
            "Error: Jupyter cannot be started. Error attempting to locate jupyter:",
            "at A.startServer (/Users/advaithsai/.vscode/extensions/ms-python.python-2020.2.64397/out/client/extension.js:1:786213)"
          ]
        }
      ],
      "source": [
        "# Initialize fitting parameters\n",
        "initial_theta = np.zeros(X.shape[1])\n",
        "\n",
        "# Set regularization parameter lambda to 1\n",
        "# DO NOT use `lambda` as a variable name in python\n",
        "# because it is a python keyword\n",
        "lambda_ = 1\n",
        "\n",
        "# Compute and display initial cost and gradient for regularized logistic\n",
        "# regression\n",
        "cost, grad = costFunctionReg(initial_theta, X, y, lambda_)\n",
        "\n",
        "print('Cost at initial theta (zeros): {:.3f}'.format(cost))\n",
        "print('Expected cost (approx)       : 0.693\\n')\n",
        "\n",
        "print('Gradient at initial theta (zeros) - first five values only:')\n",
        "print('\\t[{:.4f}, {:.4f}, {:.4f}, {:.4f}, {:.4f}]'.format(*grad[:5]))\n",
        "print('Expected gradients (approx) - first five values only:')\n",
        "print('\\t[0.0085, 0.0188, 0.0001, 0.0503, 0.0115]\\n')\n",
        "\n",
        "lambda_ = 10\n",
        "# Compute and display cost and gradient\n",
        "# with all-ones theta and lambda = 10\n",
        "test_theta = np.ones(X.shape[1])\n",
        "cost, grad = costFunctionReg(test_theta, X, y, lambda_)\n",
        "\n",
        "print('------------------------------\\n')\n",
        "print('Cost at test theta    : {:.2f}'.format(cost))\n",
        "print('Expected cost (approx): 3.16\\n')\n",
        "\n",
        "print('Gradient at initial theta (zeros) - first five values only:')\n",
        "print('\\t[{:.4f}, {:.4f}, {:.4f}, {:.4f}, {:.4f}]'.format(*grad[:5]))\n",
        "print('Expected gradients (approx) - first five values only:')\n",
        "print('\\t[0.3460, 0.1614, 0.1948, 0.2269, 0.0922]')"
      ]
    },
    {
      "cell_type": "code",
      "execution_count": null,
      "metadata": {},
      "outputs": [
        {
          "ename": "Error",
          "evalue": "Jupyter cannot be started. Error attempting to locate jupyter: ",
          "output_type": "error",
          "traceback": [
            "Error: Jupyter cannot be started. Error attempting to locate jupyter:",
            "at A.startServer (/Users/advaithsai/.vscode/extensions/ms-python.python-2020.2.64397/out/client/extension.js:1:786213)"
          ]
        }
      ],
      "source": [
        "# Initialize fitting parameters\n",
        "initial_theta = np.zeros(X.shape[1])\n",
        "\n",
        "# Set regularization parameter lambda to 1 (you should vary this)\n",
        "lambda_ = 0.01\n",
        "\n",
        "# set options for optimize.minimize\n",
        "options= {'maxiter': 100}\n",
        "\n",
        "res = optimize.minimize(costFunctionReg,\n",
        "                        initial_theta,\n",
        "                        (X, y, lambda_),\n",
        "                        jac=True,\n",
        "                        method='TNC',\n",
        "                        options=options)\n",
        "\n",
        "# the fun property of OptimizeResult object returns\n",
        "# the value of costFunction at optimized theta\n",
        "cost = res.fun\n",
        "\n",
        "# the optimized theta is in the x property of the result\n",
        "theta = res.x\n",
        "\n",
        "plotDecisionBoundary(plotData, theta, X, y)\n",
        "plt.xlabel('Microchip Test 1')\n",
        "plt.ylabel('Microchip Test 2')\n",
        "plt.legend(['y = 1', 'y = 0'])\n",
        "plt.grid(False)\n",
        "plt.title('lambda = %0.2f' % lambda_)\n",
        "\n",
        "# Compute accuracy on our training set\n",
        "p = predict(theta, X)\n",
        "\n",
        "print('Train Accuracy: %.1f %%' % (np.mean(p == y) * 100))\n",
        "print('Expected accuracy (with lambda = 1): 83.1 % (approx)\\n')"
      ]
    }
  ]
}