{
  "cells": [
    {
      "cell_type": "code",
      "metadata": {
        "id": "JbdlxzoFuAuA",
        "colab_type": "code",
        "colab": {}
      },
      "source": [
        "import numpy as np\n",
        "import matplotlib.pyplot as plt\n",
        "import pandas as pd\n",
        "from scipy import optimize\n",
        "from scipy.io import loadmat\n",
        "import utils\n",
        "grader = utils.Grader()"
      ],
      "execution_count": 0,
      "outputs": []
    },
    {
      "cell_type": "code",
      "metadata": {
        "id": "qLeWH0vNvoF9",
        "colab_type": "code",
        "outputId": "10b0eb9b-d219-4e7a-908e-0c6598334eee",
        "colab": {
          "base_uri": "https://localhost:8080/",
          "height": 282
        }
      },
      "source": [
        "data = loadmat('/Users/advaithsai/ml-coursera/ex5/ex5data1.mat')\n",
        "X, y = data['X'], data['y'][:,0]\n",
        "Xval, yval = data['Xval'], data['yval'][:,0]\n",
        "Xtest, ytest = data['Xtest'], data['ytest'][:,0]\n",
        "\n",
        "m = y.shape[0]\n",
        "plt.scatter(X,y)"
      ],
      "execution_count": 5,
      "outputs": [
        {
          "output_type": "execute_result",
          "data": {
            "text/plain": [
              "<matplotlib.collections.PathCollection at 0x7f5147854668>"
            ]
          },
          "metadata": {
            "tags": []
          },
          "execution_count": 5
        },
        {
          "output_type": "display_data",
          "data": {
            "image/png": "[encoded data removed]",
            "text/plain": [
              "<Figure size 432x288 with 1 Axes>"
            ]
          },
          "metadata": {
            "tags": [],
            "needs_background": "light"
          }
        }
      ]
    },
    {
      "cell_type": "code",
      "metadata": {
        "id": "SlGx4DgL2yd6",
        "colab_type": "code",
        "colab": {}
      },
      "source": [
        "def linearRegCostFunction(X, y, theta, lambda_=0.0):\n",
        "  m = y.size\n",
        "  J = 0 \n",
        "  grad = np.zeros(theta.shape)\n",
        "  def theta_sum(theta,m,lambda_):\n",
        "    sum_ = np.sum(theta[1:]**2)\n",
        "    return (sum_*lambda_)/(2*m)\n",
        "  def compute_cost(X,y,m):\n",
        "    h_x = np.zeros(m)\n",
        "    sum_diff = 0\n",
        "    for i in range(m):\n",
        "      h_x[i] = np.dot(theta,X[i])\n",
        "    sum_diff = np.sum((h_x-y)**2)\n",
        "    return (sum_diff/(2*m))\n",
        "  def computeGrad(X,y,j):\n",
        "    h_x = np.zeros(m)\n",
        "    sum_Gradient = 0\n",
        "    for i in range(m):\n",
        "      h_x[i] = np.dot(theta,X[i])\n",
        "      sum_Gradient += (h_x[i]-y[i])*X[i][j]\n",
        "    return sum_Gradient/m\n",
        "  \n",
        "  for i in range(grad.shape[0]):\n",
        "    if i >= 1:\n",
        "      grad[i] = computeGrad(X,y,i) + (theta[i]*lambda_)/m\n",
        "    else:\n",
        "      grad[i] = computeGrad(X,y,i)\n",
        "  \n",
        "  J = compute_cost(X,y,m) + theta_sum (theta,m,lambda_)\n",
        "  return J,grad"
      ],
      "execution_count": 0,
      "outputs": []
    },
    {
      "cell_type": "code",
      "metadata": {
        "id": "5anPy8K87j5m",
        "colab_type": "code",
        "outputId": "28df28f4-a271-4293-d899-f2215b1fb276",
        "colab": {
          "base_uri": "https://localhost:8080/",
          "height": 69
        }
      },
      "source": [
        "theta = np.array([1, 1])\n",
        "J, _ = linearRegCostFunction(np.concatenate([np.ones((m, 1)), X], axis=1), y, theta, 1)\n",
        "print('Cost at theta = [1, 1]:\\t   %f ' % J)\n",
        "print('This value should be about 303.993192)\\n' % J)"
      ],
      "execution_count": 7,
      "outputs": [
        {
          "output_type": "stream",
          "text": [
            "Cost at theta = [1, 1]:\t   303.993192 \n",
            "This value should be about 303.993192)\n",
            "\n"
          ],
          "name": "stdout"
        }
      ]
    },
    {
      "cell_type": "code",
      "metadata": {
        "id": "GcPS9NY47lsG",
        "colab_type": "code",
        "outputId": "748cb976-749f-4be0-8404-a33bd5c009c3",
        "colab": {
          "base_uri": "https://localhost:8080/",
          "height": 295
        }
      },
      "source": [
        "grader[1] = linearRegCostFunction\n",
        "grader.grade()"
      ],
      "execution_count": 10,
      "outputs": [
        {
          "output_type": "stream",
          "text": [
            "\n",
            "Submitting Solutions | Programming Exercise regularized-linear-regression-and-bias-variance\n",
            "\n",
            "Use token from last successful submission (advaith.maddipatla@gmail.com)? (Y/n): n\n",
            "Login (email address): advaith.maddipatla@gmail.com\n",
            "Token: TUsuy6EdfoeFnkbI\n",
            "                                  Part Name |     Score | Feedback\n",
            "                                  --------- |     ----- | --------\n",
            "Regularized Linear Regression Cost Function |  25 /  25 | Nice work!\n",
            "     Regularized Linear Regression Gradient |   0 /  25 | \n",
            "                             Learning Curve |   0 /  20 | \n",
            "                 Polynomial Feature Mapping |   0 /  10 | \n",
            "                           Validation Curve |   0 /  20 | \n",
            "                                  --------------------------------\n",
            "                                            |  25 / 100 |  \n",
            "\n"
          ],
          "name": "stdout"
        }
      ]
    },
    {
      "cell_type": "code",
      "metadata": {
        "id": "szKx7bGbBU1M",
        "colab_type": "code",
        "outputId": "9a05fa18-8dbc-4072-b57b-1faebcb78b62",
        "colab": {
          "base_uri": "https://localhost:8080/",
          "height": 69
        }
      },
      "source": [
        "theta = np.array([1, 1])\n",
        "J, grad = linearRegCostFunction(np.concatenate([np.ones((m, 1)), X], axis=1), y, theta, 1)\n",
        "\n",
        "print('Gradient at theta = [1, 1]:  [{:.6f}, {:.6f}] '.format(*grad))\n",
        "print(' (this value should be about [-15.303016, 598.250744])\\n')"
      ],
      "execution_count": 11,
      "outputs": [
        {
          "output_type": "stream",
          "text": [
            "Gradient at theta = [1, 1]:  [-15.303016, 598.250744] \n",
            " (this value should be about [-15.303016, 598.250744])\n",
            "\n"
          ],
          "name": "stdout"
        }
      ]
    },
    {
      "cell_type": "code",
      "metadata": {
        "id": "xbGdAdmWtWl3",
        "colab_type": "code",
        "outputId": "9c47f04b-8a3e-45a8-907c-aae7ce958d2c",
        "colab": {
          "base_uri": "https://localhost:8080/",
          "height": 260
        }
      },
      "source": [
        "grader[2] = linearRegCostFunction\n",
        "grader.grade()"
      ],
      "execution_count": 12,
      "outputs": [
        {
          "output_type": "stream",
          "text": [
            "\n",
            "Submitting Solutions | Programming Exercise regularized-linear-regression-and-bias-variance\n",
            "\n",
            "Use token from last successful submission (advaith.maddipatla@gmail.com)? (Y/n): Y\n",
            "                                  Part Name |     Score | Feedback\n",
            "                                  --------- |     ----- | --------\n",
            "Regularized Linear Regression Cost Function |  25 /  25 | Nice work!\n",
            "     Regularized Linear Regression Gradient |  25 /  25 | Nice work!\n",
            "                             Learning Curve |   0 /  20 | \n",
            "                 Polynomial Feature Mapping |   0 /  10 | \n",
            "                           Validation Curve |   0 /  20 | \n",
            "                                  --------------------------------\n",
            "                                            |  50 / 100 |  \n",
            "\n"
          ],
          "name": "stdout"
        }
      ]
    },
    {
      "cell_type": "code",
      "metadata": {
        "id": "eJd-rfKMvEEm",
        "colab_type": "code",
        "outputId": "ed9a4c6c-dc71-4245-c0f6-0fff2322bb53",
        "colab": {
          "base_uri": "https://localhost:8080/",
          "height": 279
        }
      },
      "source": [
        "X_aug = np.concatenate([np.ones((m, 1)), X], axis=1)\n",
        "theta = utils.trainLinearReg(linearRegCostFunction, X_aug, y, lambda_=0)\n",
        "plt.scatter(X, y)\n",
        "plt.xlabel('Change in water level (x)')\n",
        "plt.ylabel('Water flowing out of the dam (y)')\n",
        "plt.plot(X, np.dot(X_aug, theta), '--', lw=2,color='g');\n"
      ],
      "execution_count": 13,
      "outputs": [
        {
          "output_type": "display_data",
          "data": {
            "image/png": "[encoded data removed]",
            "text/plain": [
              "<Figure size 432x288 with 1 Axes>"
            ]
          },
          "metadata": {
            "tags": [],
            "needs_background": "light"
          }
        }
      ]
    },
    {
      "cell_type": "code",
      "metadata": {
        "id": "76TprDnWv0aV",
        "colab_type": "code",
        "colab": {}
      },
      "source": [
        "def learningCurve(X, y, Xval, yval, lambda_=0):\n",
        "  m = y.size\n",
        "  error_train = np.zeros(m)\n",
        "  error_val = np.zeros(m)\n",
        "\n",
        "  \n",
        "  for i in range(1,m+1):\n",
        "    x_train, y_train = X[:i, :], y[:i]\n",
        "    theta = utils.trainLinearReg(linearRegCostFunction, x_train, y_train, lambda_)\n",
        "    \n",
        "    error_train[i-1] = linearRegCostFunction(x_train, y_train, theta, lambda_=0)[0]\n",
        "    error_val[i-1]   = linearRegCostFunction(Xval, yval, theta, lambda_=0)[0] \n",
        "  return error_train, error_val"
      ],
      "execution_count": 0,
      "outputs": []
    },
    {
      "cell_type": "code",
      "metadata": {
        "id": "yZE6BSUsyDzo",
        "colab_type": "code",
        "outputId": "df1fe0d8-5146-4f5b-df27-6efe3dd5fa2e",
        "colab": {
          "base_uri": "https://localhost:8080/",
          "height": 521
        }
      },
      "source": [
        "X_aug = np.concatenate([np.ones((m, 1)), X], axis=1)\n",
        "Xval_aug = np.concatenate([np.ones((yval.size, 1)), Xval], axis=1)\n",
        "error_train, error_val = learningCurve(X_aug, y, Xval_aug, yval, lambda_=0)\n",
        "\n",
        "plt.plot(np.arange(1, m+1), error_train, np.arange(1, m+1), error_val, lw=2)\n",
        "plt.title('Learning curve for linear regression')\n",
        "plt.legend(['Train', 'Cross Validation'])\n",
        "plt.xlabel('Number of training examples')\n",
        "plt.ylabel('Error')\n",
        "plt.axis([0, 13, 0, 150])\n",
        "\n",
        "print('# Training Examples\\tTrain Error\\tCross Validation Error')\n",
        "for i in range(m):\n",
        "    print('  \\t%d\\t\\t%f\\t%f' % (i+1, error_train[i], error_val[i]))"
      ],
      "execution_count": 15,
      "outputs": [
        {
          "output_type": "stream",
          "text": [
            "# Training Examples\tTrain Error\tCross Validation Error\n",
            "  \t1\t\t0.000000\t205.121096\n",
            "  \t2\t\t0.000000\t110.302641\n",
            "  \t3\t\t3.286595\t45.010231\n",
            "  \t4\t\t2.842678\t48.368911\n",
            "  \t5\t\t13.154049\t35.865165\n",
            "  \t6\t\t19.443963\t33.829962\n",
            "  \t7\t\t20.098522\t31.970986\n",
            "  \t8\t\t18.172859\t30.862446\n",
            "  \t9\t\t22.609405\t31.135998\n",
            "  \t10\t\t23.261462\t28.936207\n",
            "  \t11\t\t24.317250\t29.551432\n",
            "  \t12\t\t22.373906\t29.433818\n"
          ],
          "name": "stdout"
        },
        {
          "output_type": "display_data",
          "data": {
            "image/png": "[encoded data removed]",
            "text/plain": [
              "<Figure size 432x288 with 1 Axes>"
            ]
          },
          "metadata": {
            "tags": [],
            "needs_background": "light"
          }
        }
      ]
    },
    {
      "cell_type": "code",
      "metadata": {
        "id": "dySqL3551pL1",
        "colab_type": "code",
        "outputId": "e04b4a87-302f-40e9-d57a-bee427a4aa93",
        "colab": {
          "base_uri": "https://localhost:8080/",
          "height": 260
        }
      },
      "source": [
        "grader[3] = learningCurve\n",
        "grader.grade()"
      ],
      "execution_count": 16,
      "outputs": [
        {
          "output_type": "stream",
          "text": [
            "\n",
            "Submitting Solutions | Programming Exercise regularized-linear-regression-and-bias-variance\n",
            "\n",
            "Use token from last successful submission (advaith.maddipatla@gmail.com)? (Y/n): Y\n",
            "                                  Part Name |     Score | Feedback\n",
            "                                  --------- |     ----- | --------\n",
            "Regularized Linear Regression Cost Function |  25 /  25 | Nice work!\n",
            "     Regularized Linear Regression Gradient |  25 /  25 | Nice work!\n",
            "                             Learning Curve |  20 /  20 | Nice work!\n",
            "                 Polynomial Feature Mapping |   0 /  10 | \n",
            "                           Validation Curve |   0 /  20 | \n",
            "                                  --------------------------------\n",
            "                                            |  70 / 100 |  \n",
            "\n"
          ],
          "name": "stdout"
        }
      ]
    },
    {
      "cell_type": "code",
      "metadata": {
        "id": "B2rkE4Qp3BBA",
        "colab_type": "code",
        "colab": {}
      },
      "source": [
        "def polyFeatures(X, p):\n",
        "  X_poly = np.zeros((X.shape[0], p))\n",
        "  m = X.shape[0]\n",
        "  for i in range(1,p+1):\n",
        "    X_poly[:,i-1] = (X**i).reshape(m)\n",
        "  return X_poly"
      ],
      "execution_count": 0,
      "outputs": []
    },
    {
      "cell_type": "code",
      "metadata": {
        "id": "3exymI2F_vOa",
        "colab_type": "code",
        "outputId": "2550f665-2746-482c-d5bd-e798be52df24",
        "colab": {
          "base_uri": "https://localhost:8080/",
          "height": 69
        }
      },
      "source": [
        "p = 8\n",
        "# Map X onto Polynomial Features and Normalize\n",
        "X_poly = polyFeatures(X, p)\n",
        "X_poly, mu, sigma = utils.featureNormalize(X_poly)\n",
        "X_poly = np.concatenate([np.ones((m, 1)), X_poly], axis=1)\n",
        "\n",
        "# Map X_poly_test and normalize (using mu and sigma)\n",
        "X_poly_test = polyFeatures(Xtest, p)\n",
        "X_poly_test -= mu\n",
        "X_poly_test /= sigma\n",
        "X_poly_test = np.concatenate([np.ones((ytest.size, 1)), X_poly_test], axis=1)\n",
        "\n",
        "# Map X_poly_val and normalize (using mu and sigma)\n",
        "X_poly_val = polyFeatures(Xval, p)\n",
        "X_poly_val -= mu\n",
        "X_poly_val /= sigma\n",
        "X_poly_val = np.concatenate([np.ones((yval.size, 1)), X_poly_val], axis=1)\n",
        "\n",
        "print('Normalized Training Example 1:')\n",
        "X_poly[0, :]"
      ],
      "execution_count": 18,
      "outputs": [
        {
          "output_type": "stream",
          "text": [
            "Normalized Training Example 1:\n"
          ],
          "name": "stdout"
        },
        {
          "output_type": "execute_result",
          "data": {
            "text/plain": [
              "array([ 1.        , -0.36214078, -0.75508669,  0.18222588, -0.70618991,\n",
              "        0.30661792, -0.59087767,  0.3445158 , -0.50848117])"
            ]
          },
          "metadata": {
            "tags": []
          },
          "execution_count": 18
        }
      ]
    },
    {
      "cell_type": "code",
      "metadata": {
        "id": "wYUOvLqGAEyG",
        "colab_type": "code",
        "outputId": "84746c26-44ae-4633-bf67-c6f298d97592",
        "colab": {
          "base_uri": "https://localhost:8080/",
          "height": 260
        }
      },
      "source": [
        "grader[4] = polyFeatures\n",
        "grader.grade()"
      ],
      "execution_count": 19,
      "outputs": [
        {
          "output_type": "stream",
          "text": [
            "\n",
            "Submitting Solutions | Programming Exercise regularized-linear-regression-and-bias-variance\n",
            "\n",
            "Use token from last successful submission (advaith.maddipatla@gmail.com)? (Y/n): Y\n",
            "                                  Part Name |     Score | Feedback\n",
            "                                  --------- |     ----- | --------\n",
            "Regularized Linear Regression Cost Function |  25 /  25 | Nice work!\n",
            "     Regularized Linear Regression Gradient |  25 /  25 | Nice work!\n",
            "                             Learning Curve |  20 /  20 | Nice work!\n",
            "                 Polynomial Feature Mapping |  10 /  10 | Nice work!\n",
            "                           Validation Curve |   0 /  20 | \n",
            "                                  --------------------------------\n",
            "                                            |  80 / 100 |  \n",
            "\n"
          ],
          "name": "stdout"
        }
      ]
    },
    {
      "cell_type": "code",
      "metadata": {
        "id": "rbrnzcooAx0f",
        "colab_type": "code",
        "outputId": "96213a8a-c21e-4ebb-d9e6-8a825b960488",
        "colab": {
          "base_uri": "https://localhost:8080/",
          "height": 834
        }
      },
      "source": [
        "lambda_ = 0.5\n",
        "theta = utils.trainLinearReg(linearRegCostFunction, X_poly, y,\n",
        "                             lambda_=lambda_, maxiter=55)\n",
        "\n",
        "# Plot training data and fit\n",
        "plt.plot(X, y, 'ro', ms=10, mew=1.5, mec='k')\n",
        "\n",
        "utils.plotFit(polyFeatures, np.min(X), np.max(X), mu, sigma, theta, p)\n",
        "\n",
        "plt.xlabel('Change in water level (x)')\n",
        "plt.ylabel('Water flowing out of the dam (y)')\n",
        "plt.title('Polynomial Regression Fit (lambda = %f)' % lambda_)\n",
        "plt.ylim([-20, 50])\n",
        "\n",
        "plt.figure()\n",
        "error_train, error_val = learningCurve(X_poly, y, X_poly_val, yval, lambda_)\n",
        "plt.plot(np.arange(1, 1+m), error_train, np.arange(1, 1+m), error_val)\n",
        "\n",
        "plt.title('Polynomial Regression Learning Curve (lambda = %f)' % lambda_)\n",
        "plt.xlabel('Number of training examples')\n",
        "plt.ylabel('Error')\n",
        "plt.axis([0, 13, 0, 100])\n",
        "plt.legend(['Train', 'Cross Validation'])\n",
        "\n",
        "print('Polynomial Regression (lambda = %f)\\n' % lambda_)\n",
        "print('# Training Examples\\tTrain Error\\tCross Validation Error')\n",
        "for i in range(m):\n",
        "    print('  \\t%d\\t\\t%f\\t%f' % (i+1, error_train[i], error_val[i]))\n"
      ],
      "execution_count": 20,
      "outputs": [
        {
          "output_type": "stream",
          "text": [
            "Polynomial Regression (lambda = 0.500000)\n",
            "\n",
            "# Training Examples\tTrain Error\tCross Validation Error\n",
            "  \t1\t\t0.000000\t138.846777\n",
            "  \t2\t\t0.024374\t143.397515\n",
            "  \t3\t\t0.869719\t7.379848\n",
            "  \t4\t\t0.433276\t8.562161\n",
            "  \t5\t\t0.346604\t8.538791\n",
            "  \t6\t\t0.283844\t10.257776\n",
            "  \t7\t\t0.817735\t6.171751\n",
            "  \t8\t\t0.811116\t5.597154\n",
            "  \t9\t\t1.006503\t6.263652\n",
            "  \t10\t\t0.926082\t5.954859\n",
            "  \t11\t\t0.842517\t5.996816\n",
            "  \t12\t\t1.308184\t4.268432\n"
          ],
          "name": "stdout"
        },
        {
          "output_type": "display_data",
          "data": {
            "image/png": "[encoded data removed]",
            "text/plain": [
              "<Figure size 432x288 with 1 Axes>"
            ]
          },
          "metadata": {
            "tags": [],
            "needs_background": "light"
          }
        },
        {
          "output_type": "display_data",
          "data": {
            "image/png": "[encoded data removed]",
            "text/plain": [
              "<Figure size 432x288 with 1 Axes>"
            ]
          },
          "metadata": {
            "tags": [],
            "needs_background": "light"
          }
        }
      ]
    },
    {
      "cell_type": "code",
      "metadata": {
        "id": "wr-y4PiiFA-2",
        "colab_type": "code",
        "colab": {}
      },
      "source": [
        "def validationCurve(X, y, Xval, yval):\n",
        "  lambda_vec = [0, 0.001, 0.003, 0.01, 0.03, 0.1, 0.3, 1, 3, 10]\n",
        "\n",
        "  error_train = np.zeros(len(lambda_vec))\n",
        "  error_val = np.zeros(len(lambda_vec))\n",
        "\n",
        "  i = 0\n",
        "  for lambda_ in lambda_vec:\n",
        "    theta = utils.trainLinearReg(linearRegCostFunction, X, y, lambda_)\n",
        "    \n",
        "    error_train[i] = linearRegCostFunction(X, y, theta, lambda_=0)[0]\n",
        "    error_val[i]   = linearRegCostFunction(Xval, yval, theta, lambda_=0)[0] \n",
        "    \n",
        "    i += 1\n",
        "\n",
        "  return lambda_vec, error_train, error_val"
      ],
      "execution_count": 0,
      "outputs": []
    },
    {
      "cell_type": "code",
      "metadata": {
        "id": "xiFPXISglEUi",
        "colab_type": "code",
        "outputId": "cdbc1e27-1844-4b0f-88d3-4db447210eb9",
        "colab": {
          "base_uri": "https://localhost:8080/",
          "height": 470
        }
      },
      "source": [
        "lambda_vec, error_train, error_val = validationCurve(X_poly, y, X_poly_val, yval)\n",
        "\n",
        "plt.plot(lambda_vec, error_train, '-o', lambda_vec, error_val, '-o', lw=2)\n",
        "plt.legend(['Train', 'Cross Validation'])\n",
        "plt.xlabel('lambda')\n",
        "plt.ylabel('Error')\n",
        "\n",
        "print('lambda\\t\\tTrain Error\\tValidation Error')\n",
        "for i in range(len(lambda_vec)):\n",
        "    print(' %f\\t%f\\t%f' % (lambda_vec[i], error_train[i], error_val[i]))"
      ],
      "execution_count": 25,
      "outputs": [
        {
          "output_type": "stream",
          "text": [
            "lambda\t\tTrain Error\tValidation Error\n",
            " 0.000000\t0.028913\t55.150728\n",
            " 0.001000\t0.112678\t9.844009\n",
            " 0.003000\t0.170887\t16.289430\n",
            " 0.010000\t0.221452\t16.953159\n",
            " 0.030000\t0.281859\t12.827342\n",
            " 0.100000\t0.459320\t7.586981\n",
            " 0.300000\t0.921786\t4.636751\n",
            " 1.000000\t2.076200\t4.260602\n",
            " 3.000000\t4.901377\t3.822922\n",
            " 10.000000\t16.092273\t9.945554\n"
          ],
          "name": "stdout"
        },
        {
          "output_type": "display_data",
          "data": {
            "image/png": "[encoded data removed]",
            "text/plain": [
              "<Figure size 432x288 with 1 Axes>"
            ]
          },
          "metadata": {
            "tags": [],
            "needs_background": "light"
          }
        }
      ]
    },
    {
      "cell_type": "code",
      "metadata": {
        "id": "waldQc2klH7q",
        "colab_type": "code",
        "outputId": "3330d30d-c563-4edb-bb9d-7801382e7251",
        "colab": {
          "base_uri": "https://localhost:8080/",
          "height": 260
        }
      },
      "source": [
        "grader[5] = validationCurve\n",
        "grader.grade()"
      ],
      "execution_count": 26,
      "outputs": [
        {
          "output_type": "stream",
          "text": [
            "\n",
            "Submitting Solutions | Programming Exercise regularized-linear-regression-and-bias-variance\n",
            "\n",
            "Use token from last successful submission (advaith.maddipatla@gmail.com)? (Y/n): Y\n",
            "                                  Part Name |     Score | Feedback\n",
            "                                  --------- |     ----- | --------\n",
            "Regularized Linear Regression Cost Function |  25 /  25 | Nice work!\n",
            "     Regularized Linear Regression Gradient |  25 /  25 | Nice work!\n",
            "                             Learning Curve |  20 /  20 | Nice work!\n",
            "                 Polynomial Feature Mapping |  10 /  10 | Nice work!\n",
            "                           Validation Curve |  20 /  20 | Nice work!\n",
            "                                  --------------------------------\n",
            "                                            | 100 / 100 |  \n",
            "\n"
          ],
          "name": "stdout"
        }
      ]
    },
    {
      "cell_type": "code",
      "metadata": {
        "id": "1yIooPE6lXLK",
        "colab_type": "code",
        "colab": {}
      },
      "source": [
        ""
      ],
      "execution_count": 0,
      "outputs": []
    }
  ],
  "metadata": {
    "colab": {
      "name": "ex5.ipynb",
      "provenance": [],
      "collapsed_sections": []
    },
    "kernelspec": {
      "name": "python3",
      "display_name": "Python 3"
    }
  },
  "nbformat": 4,
  "nbformat_minor": 0
}
